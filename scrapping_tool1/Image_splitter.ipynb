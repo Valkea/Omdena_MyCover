{
 "cells": [
  {
   "cell_type": "code",
   "execution_count": 1,
   "id": "3b458729-cb31-4ab9-a93e-a1c38036066c",
   "metadata": {},
   "outputs": [],
   "source": [
    "import numpy as np\n",
    "\n",
    "from PIL import Image, ImageFilter, ImageOps, ImageDraw\n",
    "import matplotlib.pyplot as plt\n",
    "from matplotlib import gridspec\n",
    "\n",
    "import glob\n",
    "import pathlib\n",
    "import os"
   ]
  },
  {
   "cell_type": "code",
   "execution_count": 2,
   "id": "3a5bbd64-0735-417a-ae5e-1e1a910fb9bf",
   "metadata": {},
   "outputs": [
    {
     "data": {
      "text/plain": [
       "['data/11.jpg',\n",
       " 'data/01.jpg',\n",
       " 'data/05.jpg',\n",
       " 'data/07.jpg',\n",
       " 'data/14.jpg',\n",
       " 'data/08.jpg',\n",
       " 'data/17.jpg',\n",
       " 'data/18.jpg',\n",
       " 'data/02.jpg',\n",
       " 'data/06.jpg',\n",
       " 'data/03.jpg',\n",
       " 'data/10.jpg',\n",
       " 'data/12.jpg',\n",
       " 'data/15.jpg',\n",
       " 'data/13.jpg',\n",
       " 'data/19.jpg',\n",
       " 'data/16.jpg',\n",
       " 'data/09.jpg',\n",
       " 'data/04.jpg']"
      ]
     },
     "execution_count": 2,
     "metadata": {},
     "output_type": "execute_result"
    }
   ],
   "source": [
    "base_path = pathlib.Path('data')\n",
    "extensions = ['jpg', 'png']\n",
    "\n",
    "images_list = []\n",
    "for extension in extensions:\n",
    "    images_paths = glob.glob(str(pathlib.Path('data', f'*.{extension}')))\n",
    "    images_list.extend(images_paths)\n",
    "    \n",
    "images_list"
   ]
  },
  {
   "cell_type": "code",
   "execution_count": 3,
   "id": "36f7ef27-642e-451f-b56a-80128242309f",
   "metadata": {},
   "outputs": [],
   "source": [
    "def save_image(img, export_path, file_name):\n",
    "    file_path = pathlib.Path(export_path, f\"{file_name}.jpg\")\n",
    "    img.save(file_path)"
   ]
  },
  {
   "cell_type": "code",
   "execution_count": 31,
   "id": "27ed9738-64c8-475e-8177-ff5d27cbf2a1",
   "metadata": {},
   "outputs": [],
   "source": [
    "# define parameters used to crop the images correctly\n",
    "width = 408\n",
    "height = 245\n",
    "\n",
    "w_offset_1 = 0\n",
    "h_offset_1 = 0\n",
    "\n",
    "w_offset_2 = w_offset_1 + width + 1\n",
    "h_offset_2 = h_offset_1\n",
    "\n",
    "left_label = \"postloss\"\n",
    "right_label = \"preloss\"\n",
    "\n",
    "# create_export_folder\n",
    "export_path = pathlib.Path('data', 'export')\n",
    "clear_export_folder = True\n",
    "\n",
    "if os.path.exists(export_path) and clear_export_folder:\n",
    "    for file in  os.listdir(export_path):\n",
    "        os.remove(pathlib.Path(export_path, file))\n",
    "    os.rmdir(export_path)\n",
    "\n",
    "if not os.path.exists(export_path):\n",
    "    os.mkdir(export_path)"
   ]
  },
  {
   "cell_type": "code",
   "execution_count": 32,
   "id": "bbd4db1b-5fa2-49fd-b2d3-ad30253167c7",
   "metadata": {},
   "outputs": [],
   "source": [
    "def split_image(image_path, display=True):\n",
    "    \n",
    "    img = Image.open(image_path)\n",
    "    im1 = img.crop((w_offset_1, h_offset_1, w_offset_1+width, h_offset_1+height))\n",
    "    im2 = img.crop((w_offset_2, h_offset_2, w_offset_2+width, h_offset_2+height))\n",
    "    \n",
    "    file_name = pathlib.Path(image_path).stem\n",
    "    save_image(im1, export_path, f\"{file_name}_{left_label}\")\n",
    "    save_image(im2, export_path, f\"{file_name}_{right_label}\")\n",
    "    \n",
    "    print(f\"{image_path} split\")\n",
    "    \n",
    "    if display is False:\n",
    "        return\n",
    "    \n",
    "    fig = plt.figure(figsize=(20,10), facecolor='lightgray')\n",
    "    ax1 = plt.subplot2grid(shape=(2, 2), loc=(0, 0), colspan=2)\n",
    "    ax2 = plt.subplot2grid(shape=(2, 2), loc=(1, 0), colspan=1)\n",
    "    ax3 = plt.subplot2grid(shape=(2, 2), loc=(1, 1), colspan=1)\n",
    "    \n",
    "    ax1.set_title(\"Original image\")\n",
    "    ax1.imshow(img, cmap='gray', vmin=0, vmax=255)\n",
    "    ax1.axis('off')\n",
    "\n",
    "    ax2.set_title(f\"Crop {left_label.upper()}\")\n",
    "    ax2.imshow(im1, cmap='gray', vmin=0, vmax=255)\n",
    "    ax2.axis('off')\n",
    "    \n",
    "    ax3.set_title(f\"Crop {right_label.upper()}\")\n",
    "    ax3.imshow(im2, cmap='gray', vmin=0, vmax=255)\n",
    "    ax3.axis('off')\n",
    "\n",
    "    plt.show()"
   ]
  },
  {
   "cell_type": "code",
   "execution_count": 34,
   "id": "d6dc65d2-f7f3-4e7d-9e59-9796475bc383",
   "metadata": {},
   "outputs": [
    {
     "name": "stdout",
     "output_type": "stream",
     "text": [
      "data/11.jpg split\n",
      "data/01.jpg split\n",
      "data/05.jpg split\n",
      "data/07.jpg split\n",
      "data/14.jpg split\n",
      "data/08.jpg split\n",
      "data/17.jpg split\n",
      "data/18.jpg split\n",
      "data/02.jpg split\n",
      "data/06.jpg split\n",
      "data/03.jpg split\n",
      "data/10.jpg split\n",
      "data/12.jpg split\n",
      "data/15.jpg split\n",
      "data/13.jpg split\n",
      "data/19.jpg split\n",
      "data/16.jpg split\n",
      "data/09.jpg split\n",
      "data/04.jpg split\n"
     ]
    }
   ],
   "source": [
    "for image_path in images_list:\n",
    "    split_image(image_path, display=False)"
   ]
  },
  {
   "cell_type": "code",
   "execution_count": null,
   "id": "4d7e8c4f-a96d-42b4-8f71-e9867726d28b",
   "metadata": {},
   "outputs": [],
   "source": []
  }
 ],
 "metadata": {
  "kernelspec": {
   "display_name": "venv_feature_extraction",
   "language": "python",
   "name": "venv_feature_extraction"
  },
  "language_info": {
   "codemirror_mode": {
    "name": "ipython",
    "version": 3
   },
   "file_extension": ".py",
   "mimetype": "text/x-python",
   "name": "python",
   "nbconvert_exporter": "python",
   "pygments_lexer": "ipython3",
   "version": "3.8.10"
  }
 },
 "nbformat": 4,
 "nbformat_minor": 5
}
